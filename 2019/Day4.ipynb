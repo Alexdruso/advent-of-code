{
 "cells": [
  {
   "cell_type": "code",
   "execution_count": 1,
   "metadata": {},
   "outputs": [
    {
     "name": "stdout",
     "output_type": "stream",
     "text": [
      "125730-579381\n"
     ]
    }
   ],
   "source": [
    "span=input().split('-')"
   ]
  },
  {
   "cell_type": "code",
   "execution_count": 2,
   "metadata": {
    "collapsed": true
   },
   "outputs": [],
   "source": [
    "def thereDouble(i):\n",
    "    for j in range(len(i)-1):\n",
    "        if(i[j]==i[j+1]):\n",
    "            return True\n",
    "       \n",
    "    return False"
   ]
  },
  {
   "cell_type": "code",
   "execution_count": 3,
   "metadata": {
    "collapsed": true
   },
   "outputs": [],
   "source": [
    "def increasing(i):\n",
    "    for j in range(len(i)-1):\n",
    "        if(i[j]>i[j+1]):\n",
    "            return False\n",
    "    \n",
    "    return True"
   ]
  },
  {
   "cell_type": "code",
   "execution_count": 4,
   "metadata": {},
   "outputs": [],
   "source": [
    "def right(i):\n",
    "    return thereDouble(i) and  increasing(i)\n",
    "    "
   ]
  },
  {
   "cell_type": "code",
   "execution_count": 5,
   "metadata": {},
   "outputs": [],
   "source": [
    "possibilities=0\n",
    "for i in range(int(span[0]),int(span[1])+1):\n",
    "    if(right(str(i))):\n",
    "        possibilities=possibilities+1"
   ]
  },
  {
   "cell_type": "code",
   "execution_count": 6,
   "metadata": {},
   "outputs": [
    {
     "name": "stdout",
     "output_type": "stream",
     "text": [
      "Answer 1 is 2081\n"
     ]
    }
   ],
   "source": [
    "print('Answer 1 is '+str(possibilities))"
   ]
  },
  {
   "cell_type": "code",
   "execution_count": 7,
   "metadata": {
    "collapsed": true
   },
   "outputs": [],
   "source": [
    "def thereDoubleOnly(i):\n",
    "    k=sorted(i)\n",
    "    for j in k:\n",
    "        if(i.count(j)==2):\n",
    "            return True\n",
    "    \n",
    "    return False"
   ]
  },
  {
   "cell_type": "code",
   "execution_count": 8,
   "metadata": {
    "collapsed": true
   },
   "outputs": [],
   "source": [
    "def slightlyDifferentRight(i):\n",
    "    return thereDoubleOnly(i) and  increasing(i)\n",
    "    "
   ]
  },
  {
   "cell_type": "code",
   "execution_count": 9,
   "metadata": {},
   "outputs": [],
   "source": [
    "possibilities=0\n",
    "for i in range(int(span[0]),int(span[1])+1):\n",
    "    if(slightlyDifferentRight(str(i))):\n",
    "        possibilities=possibilities+1"
   ]
  },
  {
   "cell_type": "code",
   "execution_count": 10,
   "metadata": {},
   "outputs": [
    {
     "name": "stdout",
     "output_type": "stream",
     "text": [
      "Answer 2 is 1411\n"
     ]
    }
   ],
   "source": [
    "print('Answer 2 is '+str(possibilities))"
   ]
  }
 ],
 "metadata": {
  "kernelspec": {
   "display_name": "Python 3",
   "language": "python",
   "name": "python3"
  },
  "language_info": {
   "codemirror_mode": {
    "name": "ipython",
    "version": 3
   },
   "file_extension": ".py",
   "mimetype": "text/x-python",
   "name": "python",
   "nbconvert_exporter": "python",
   "pygments_lexer": "ipython3",
   "version": "3.6.3"
  }
 },
 "nbformat": 4,
 "nbformat_minor": 2
}
