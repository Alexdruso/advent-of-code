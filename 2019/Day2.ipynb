{
 "cells": [
  {
   "cell_type": "code",
   "execution_count": 1,
   "metadata": {},
   "outputs": [
    {
     "name": "stdout",
     "output_type": "stream",
     "text": [
      "1,0,0,3,1,1,2,3,1,3,4,3,1,5,0,3,2,13,1,19,1,19,10,23,1,23,6,27,1,6,27,31,1,13,31,35,1,13,35,39,1,39,13,43,2,43,9,47,2,6,47,51,1,51,9,55,1,55,9,59,1,59,6,63,1,9,63,67,2,67,10,71,2,71,13,75,1,10,75,79,2,10,79,83,1,83,6,87,2,87,10,91,1,91,6,95,1,95,13,99,1,99,13,103,2,103,9,107,2,107,10,111,1,5,111,115,2,115,9,119,1,5,119,123,1,123,9,127,1,127,2,131,1,5,131,0,99,2,0,14,0\n"
     ]
    }
   ],
   "source": [
    "textInput=input()"
   ]
  },
  {
   "cell_type": "code",
   "execution_count": 2,
   "metadata": {
    "collapsed": true
   },
   "outputs": [],
   "source": [
    "parsedTextInput=textInput.split(',')"
   ]
  },
  {
   "cell_type": "code",
   "execution_count": 3,
   "metadata": {
    "collapsed": true
   },
   "outputs": [],
   "source": [
    "numericInput=[]"
   ]
  },
  {
   "cell_type": "code",
   "execution_count": 4,
   "metadata": {
    "collapsed": true
   },
   "outputs": [],
   "source": [
    "for i in parsedTextInput:\n",
    "    numericInput.append(int(i))"
   ]
  },
  {
   "cell_type": "code",
   "execution_count": 5,
   "metadata": {
    "collapsed": true
   },
   "outputs": [],
   "source": [
    "class Computer:\n",
    "    \n",
    "    def __init__(self, numericInput):\n",
    "        self.numericInput=numericInput\n",
    "     \n",
    "    def execute(self):\n",
    "            \n",
    "        for i in range(0,len(self.numericInput),4):\n",
    "                \n",
    "            if(self.numericInput[i]==1):\n",
    "                self.numericInput[self.numericInput[i+3]]=self.numericInput[self.numericInput[i+1]]+self.numericInput[self.numericInput[i+2]]\n",
    "                \n",
    "            elif(self.numericInput[i]==2):\n",
    "                self.numericInput[self.numericInput[i+3]]=self.numericInput[self.numericInput[i+1]]*self.numericInput[self.numericInput[i+2]]\n",
    "                    \n",
    "            elif(self.numericInput[i]==99):\n",
    "                break\n",
    "              \n",
    "    \n",
    "    def getResult(self):\n",
    "        \n",
    "        return self.numericInput[0]\n",
    "    \n",
    "     \n",
    "    def setInput(self, newInput):\n",
    "            \n",
    "        self.numericInput=newInput\n",
    "                                \n",
    "                    \n",
    "        "
   ]
  },
  {
   "cell_type": "code",
   "execution_count": 6,
   "metadata": {
    "collapsed": true
   },
   "outputs": [],
   "source": [
    "myInput=list(numericInput)"
   ]
  },
  {
   "cell_type": "code",
   "execution_count": 7,
   "metadata": {
    "collapsed": true
   },
   "outputs": [],
   "source": [
    "myInput[1]=12"
   ]
  },
  {
   "cell_type": "code",
   "execution_count": 8,
   "metadata": {
    "collapsed": true
   },
   "outputs": [],
   "source": [
    "myInput[2]=2"
   ]
  },
  {
   "cell_type": "code",
   "execution_count": 9,
   "metadata": {
    "collapsed": true
   },
   "outputs": [],
   "source": [
    "myComputer=Computer(myInput)"
   ]
  },
  {
   "cell_type": "code",
   "execution_count": 10,
   "metadata": {
    "collapsed": true
   },
   "outputs": [],
   "source": [
    "myComputer.execute()"
   ]
  },
  {
   "cell_type": "code",
   "execution_count": 11,
   "metadata": {},
   "outputs": [
    {
     "name": "stdout",
     "output_type": "stream",
     "text": [
      "Answer 1 is 5866714\n"
     ]
    }
   ],
   "source": [
    "print('Answer 1 is '+str(myComputer.getResult()))"
   ]
  },
  {
   "cell_type": "code",
   "execution_count": 12,
   "metadata": {},
   "outputs": [],
   "source": [
    "for i in range(100):\n",
    "    \n",
    "    for j in range(100):\n",
    "        \n",
    "        myInput=list(numericInput)\n",
    "        myInput[1]=i\n",
    "        myInput[2]=j\n",
    "        myComputer.setInput(myInput)\n",
    "        myComputer.execute()\n",
    "        if(myComputer.getResult()==19690720):\n",
    "            result=100*i+j\n",
    "            break"
   ]
  },
  {
   "cell_type": "code",
   "execution_count": 13,
   "metadata": {
    "scrolled": true
   },
   "outputs": [
    {
     "name": "stdout",
     "output_type": "stream",
     "text": [
      "Answer 2 is 5208\n"
     ]
    }
   ],
   "source": [
    "print('Answer 2 is '+str(result))"
   ]
  }
 ],
 "metadata": {
  "kernelspec": {
   "display_name": "Python 3",
   "language": "python",
   "name": "python3"
  },
  "language_info": {
   "codemirror_mode": {
    "name": "ipython",
    "version": 3
   },
   "file_extension": ".py",
   "mimetype": "text/x-python",
   "name": "python",
   "nbconvert_exporter": "python",
   "pygments_lexer": "ipython3",
   "version": "3.6.3"
  }
 },
 "nbformat": 4,
 "nbformat_minor": 2
}
