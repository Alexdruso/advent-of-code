{
 "cells": [
  {
   "cell_type": "code",
   "execution_count": 17,
   "metadata": {},
   "outputs": [],
   "source": [
    "import copy\n",
    "\n",
    "f = open(\"input11.txt\", \"r\")\n",
    "\n",
    "seats =[list(line) for line in f.read().splitlines()]"
   ]
  },
  {
   "cell_type": "code",
   "execution_count": 18,
   "metadata": {},
   "outputs": [],
   "source": [
    "def countOccupied(seats, rowIndex, columnIndex):\n",
    "    offRowIndex=0\n",
    "    offColumnIndex=0\n",
    "    occupied = 0\n",
    "    \n",
    "    for offx in range(-1,2):\n",
    "        for offy in range(-1,2):\n",
    "            offRowIndex = rowIndex + offx\n",
    "            offColumnIndex =columnIndex + offy\n",
    "            if (offx == 0 and offy == 0) or (offRowIndex <0 or offRowIndex > len(seats)-1) or (offColumnIndex <0 or offColumnIndex > len(seats[offRowIndex])-1): \n",
    "                continue\n",
    "            else:\n",
    "                if seats[offRowIndex][offColumnIndex] == '#':\n",
    "                    occupied = occupied +1\n",
    "    return occupied\n",
    "            "
   ]
  },
  {
   "cell_type": "code",
   "execution_count": 19,
   "metadata": {},
   "outputs": [],
   "source": [
    "def seatsEpoch(seats):\n",
    "    newSeats =  copy.deepcopy(seats)\n",
    "    modified = False\n",
    "    \n",
    "    for rowIndex in range(len(seats)):\n",
    "        for columnIndex in range(len(seats[rowIndex])):\n",
    "            if countOccupied(seats, rowIndex, columnIndex) == 0 and seats[rowIndex][columnIndex] == 'L':\n",
    "                newSeats[rowIndex][columnIndex] = '#'\n",
    "                modified = True\n",
    "            elif countOccupied(seats, rowIndex, columnIndex) > 3 and seats[rowIndex][columnIndex] == '#':\n",
    "                newSeats[rowIndex][columnIndex] = 'L'\n",
    "                modified = True\n",
    "    return modified, newSeats"
   ]
  },
  {
   "cell_type": "code",
   "execution_count": 20,
   "metadata": {},
   "outputs": [],
   "source": [
    "modified = True\n",
    "newSeats = seats\n",
    "while modified:\n",
    "    modified, newSeats = seatsEpoch(newSeats)"
   ]
  },
  {
   "cell_type": "code",
   "execution_count": 21,
   "metadata": {},
   "outputs": [],
   "source": [
    "count = 0\n",
    "\n",
    "for row in newSeats:\n",
    "    for seat in row:\n",
    "        if seat == '#':\n",
    "            count = count+1"
   ]
  },
  {
   "cell_type": "code",
   "execution_count": 22,
   "metadata": {},
   "outputs": [
    {
     "data": {
      "text/plain": [
       "2296"
      ]
     },
     "execution_count": 22,
     "metadata": {},
     "output_type": "execute_result"
    }
   ],
   "source": [
    "count"
   ]
  },
  {
   "cell_type": "code",
   "execution_count": 23,
   "metadata": {},
   "outputs": [],
   "source": [
    "def countOccupiedMod(seats, rowIndex, columnIndex):\n",
    "    offRowIndex=0\n",
    "    offColumnIndex=0\n",
    "    occupied = 0\n",
    "    module = 1\n",
    "    \n",
    "    for offx in range(-1,2):\n",
    "        for offy in range(-1,2):\n",
    "            if (offx == 0 and offy == 0): continue\n",
    "            \n",
    "            offRowIndex = rowIndex + module*offx\n",
    "            offColumnIndex =columnIndex + module*offy\n",
    "            \n",
    "            while not((offRowIndex <0 or offRowIndex > len(seats)-1) or (offColumnIndex <0 or offColumnIndex > len(seats[offRowIndex])-1)) and seats[offRowIndex][offColumnIndex] == '.':\n",
    "                module = module+1\n",
    "                offRowIndex = rowIndex + module*offx\n",
    "                offColumnIndex =columnIndex + module*offy\n",
    "            print(module)\n",
    "            if seats[offRowIndex][offColumnIndex] == '#':\n",
    "                occupied = occupied +1\n",
    "                \n",
    "    return occupied"
   ]
  },
  {
   "cell_type": "code",
   "execution_count": 24,
   "metadata": {},
   "outputs": [],
   "source": [
    "def seatsEpochMod(seats):\n",
    "    newSeats =  copy.deepcopy(seats)\n",
    "    modified = False\n",
    "    \n",
    "    for rowIndex in range(len(seats)):\n",
    "        for columnIndex in range(len(seats[rowIndex])):\n",
    "            if countOccupied(seats, rowIndex, columnIndex) == 0 and seats[rowIndex][columnIndex] == 'L':\n",
    "                newSeats[rowIndex][columnIndex] = '#'\n",
    "                modified = True\n",
    "            elif countOccupied(seats, rowIndex, columnIndex) > 5 and seats[rowIndex][columnIndex] == '#':\n",
    "                newSeats[rowIndex][columnIndex] = 'L'\n",
    "                modified = True\n",
    "    return modified, newSeats"
   ]
  },
  {
   "cell_type": "code",
   "execution_count": 25,
   "metadata": {},
   "outputs": [],
   "source": [
    "modified = True\n",
    "newSeats = seats\n",
    "while modified:\n",
    "    modified, newSeats = seatsEpoch(newSeats)"
   ]
  },
  {
   "cell_type": "code",
   "execution_count": 26,
   "metadata": {},
   "outputs": [],
   "source": [
    "count = 0\n",
    "\n",
    "for row in newSeats:\n",
    "    for seat in row:\n",
    "        if seat == '#':\n",
    "            count = count+1"
   ]
  },
  {
   "cell_type": "code",
   "execution_count": 27,
   "metadata": {},
   "outputs": [
    {
     "data": {
      "text/plain": [
       "2296"
      ]
     },
     "execution_count": 27,
     "metadata": {},
     "output_type": "execute_result"
    }
   ],
   "source": [
    "count"
   ]
  },
  {
   "cell_type": "code",
   "execution_count": null,
   "metadata": {},
   "outputs": [],
   "source": []
  }
 ],
 "metadata": {
  "kernelspec": {
   "display_name": "Python 3",
   "language": "python",
   "name": "python3"
  },
  "language_info": {
   "codemirror_mode": {
    "name": "ipython",
    "version": 3
   },
   "file_extension": ".py",
   "mimetype": "text/x-python",
   "name": "python",
   "nbconvert_exporter": "python",
   "pygments_lexer": "ipython3",
   "version": "3.6.12"
  }
 },
 "nbformat": 4,
 "nbformat_minor": 4
}
