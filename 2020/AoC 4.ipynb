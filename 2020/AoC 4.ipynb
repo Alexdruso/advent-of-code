{
 "cells": [
  {
   "cell_type": "code",
   "execution_count": 1,
   "metadata": {
    "collapsed": true
   },
   "outputs": [],
   "source": [
    "f = open(\"input4.txt\", \"r\")\n",
    "\n",
    "passports = f.read()"
   ]
  },
  {
   "cell_type": "code",
   "execution_count": 2,
   "metadata": {},
   "outputs": [],
   "source": [
    "passport = {}\n",
    "structuredPassports = []\n",
    "for line in passports.splitlines():\n",
    "    if line == \"\":\n",
    "        structuredPassports.append(passport)\n",
    "        passport={}\n",
    "        continue\n",
    "    line = line.split()   \n",
    "    for pair in line:\n",
    "        pair = pair.split(':')\n",
    "        passport[pair[0]] = pair[1]\n",
    "\n",
    "structuredPassports.append(passport)"
   ]
  },
  {
   "cell_type": "code",
   "execution_count": 3,
   "metadata": {},
   "outputs": [],
   "source": [
    "count = 0\n",
    "passCount = 0\n",
    "\n",
    "requiredKeys = {\n",
    "    \"byr\",\n",
    "    \"iyr\", \n",
    "    \"eyr\",\n",
    "    \"hgt\", \n",
    "    \"hcl\", \n",
    "    \"ecl\", \n",
    "    \"pid\" \n",
    "}\n",
    "\n",
    "for passport in structuredPassports:\n",
    "    if requiredKeys <= passport.keys():\n",
    "        count = count + 1"
   ]
  },
  {
   "cell_type": "code",
   "execution_count": 4,
   "metadata": {},
   "outputs": [
    {
     "data": {
      "text/plain": [
       "210"
      ]
     },
     "execution_count": 4,
     "metadata": {},
     "output_type": "execute_result"
    }
   ],
   "source": [
    "count"
   ]
  },
  {
   "cell_type": "code",
   "execution_count": 5,
   "metadata": {},
   "outputs": [],
   "source": [
    "count = 0\n",
    "for passport in structuredPassports:\n",
    "    if requiredKeys <= passport.keys()\\\n",
    "    and len(passport[\"byr\"]) == 4\\\n",
    "    and 1920 <= int(passport[\"byr\"]) <= 2002\\\n",
    "    and len(passport[\"iyr\"]) == 4\\\n",
    "    and 2010 <= int(passport[\"iyr\"]) <= 2020\\\n",
    "    and len(passport[\"eyr\"]) == 4\\\n",
    "    and 2020 <= int(passport[\"eyr\"]) <= 2030\\\n",
    "    and (\\\n",
    "        (\\\n",
    "            passport[\"hgt\"][-2:] == \"cm\"\\\n",
    "            and 150 <= int(passport[\"hgt\"][:-2]) <= 193\\\n",
    "        )\\\n",
    "        or\\\n",
    "        (\\\n",
    "            passport[\"hgt\"][-2:] == \"in\"\\\n",
    "            and 59 <= int(passport[\"hgt\"][:-2]) <= 76\\\n",
    "        )\\\n",
    "    )\\\n",
    "    and passport[\"hcl\"][:1] == \"#\"\\\n",
    "    and len(passport[\"hcl\"][1:]) ==6\\\n",
    "    and passport[\"ecl\"] in [\"amb\", \"blu\", \"brn\", \"gry\", \"grn\", \"hzl\", \"oth\"]\\\n",
    "    and len(passport[\"pid\"]) == 9:\n",
    "        count = count + 1"
   ]
  },
  {
   "cell_type": "code",
   "execution_count": 6,
   "metadata": {},
   "outputs": [
    {
     "data": {
      "text/plain": [
       "131"
      ]
     },
     "execution_count": 6,
     "metadata": {},
     "output_type": "execute_result"
    }
   ],
   "source": [
    "count"
   ]
  }
 ],
 "metadata": {
  "kernelspec": {
   "display_name": "Python 3",
   "language": "python",
   "name": "python3"
  },
  "language_info": {
   "codemirror_mode": {
    "name": "ipython",
    "version": 3
   },
   "file_extension": ".py",
   "mimetype": "text/x-python",
   "name": "python",
   "nbconvert_exporter": "python",
   "pygments_lexer": "ipython3",
   "version": "3.6.3"
  }
 },
 "nbformat": 4,
 "nbformat_minor": 2
}
