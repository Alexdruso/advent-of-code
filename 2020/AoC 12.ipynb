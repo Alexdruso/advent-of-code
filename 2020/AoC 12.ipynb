{
 "cells": [
  {
   "cell_type": "code",
   "execution_count": 92,
   "metadata": {},
   "outputs": [],
   "source": [
    "import math\n",
    "import numpy as np\n",
    "\n",
    "f = open(\"input12.txt\", \"r\")\n",
    "instructions = [(line[0], int(line[1:])) for line in f.read().splitlines()]"
   ]
  },
  {
   "cell_type": "code",
   "execution_count": 93,
   "metadata": {},
   "outputs": [],
   "source": [
    "class ship:\n",
    "    \n",
    "    def __init__(self, initPosition, initDirection):\n",
    "        self.position = initPosition\n",
    "        self.direction = initDirection\n",
    "    \n",
    "    def followInstruction(self,instruction):\n",
    "        if instruction[0] == 'L':\n",
    "            self.rotate(instruction[1])\n",
    "        elif instruction[0] == 'R':\n",
    "            self.rotate(-instruction[1])\n",
    "        else:\n",
    "            if instruction[0] == 'E':\n",
    "                self.move(self.computeDirection(0), instruction[1])\n",
    "            elif instruction[0] == 'N':\n",
    "                self.move(self.computeDirection(90), instruction[1])\n",
    "            elif instruction[0] == 'W':\n",
    "                self.move(self.computeDirection(180), instruction[1])\n",
    "            elif instruction[0] == 'S':\n",
    "                self.move(self.computeDirection(270), instruction[1])\n",
    "            elif instruction[0] == 'F':\n",
    "                self.move(self.computeDirection(self.direction), instruction[1])\n",
    "    \n",
    "    def computeDirection(self,angle):\n",
    "        return (int(math.cos(math.radians(angle))), int(math.sin(math.radians(angle))))\n",
    "    \n",
    "    def move(self,direction, steps):\n",
    "        self.position = (self.position[0] + direction[0]*steps, self.position[1] + direction[1]*steps)\n",
    "    def rotate(self,rotation):\n",
    "        self.direction = self.direction + rotation"
   ]
  },
  {
   "cell_type": "code",
   "execution_count": 94,
   "metadata": {},
   "outputs": [],
   "source": [
    "shipInstance = ship((0,0), 0)\n",
    "\n",
    "for instruction in instructions:\n",
    "    shipInstance.followInstruction(instruction)"
   ]
  },
  {
   "cell_type": "code",
   "execution_count": 95,
   "metadata": {},
   "outputs": [
    {
     "data": {
      "text/plain": [
       "2270"
      ]
     },
     "execution_count": 95,
     "metadata": {},
     "output_type": "execute_result"
    }
   ],
   "source": [
    "abs(shipInstance.position[0]) + abs(shipInstance.position[1])"
   ]
  },
  {
   "cell_type": "code",
   "execution_count": null,
   "metadata": {},
   "outputs": [],
   "source": [
    "class waypoint:\n",
    "    class ship:\n",
    "    \n",
    "    def __init__(self, initPosition):\n",
    "        self.position = initPosition\n",
    "    \n",
    "    def followInstruction(self,instruction):\n",
    "        if instruction[0] == 'L':\n",
    "            self.rotate(instruction[1])\n",
    "        elif instruction[0] == 'R':\n",
    "            self.rotate(-instruction[1])\n",
    "        else:\n",
    "            if instruction[0] == 'E':\n",
    "                self.move(self.computeDirection(0), instruction[1])\n",
    "            elif instruction[0] == 'N':\n",
    "                self.move(self.computeDirection(90), instruction[1])\n",
    "            elif instruction[0] == 'W':\n",
    "                self.move(180, instruction[1])\n",
    "            elif instruction[0] == 'S':\n",
    "                self.move(270, instruction[1])\n",
    "    \n",
    "    def computeDirection(self,angle):\n",
    "        return (int(math.cos(math.radians(angle))), int(math.sin(math.radians(angle))))\n",
    "    \n",
    "    def move(self,direction, steps):\n",
    "        self.position = (self.position[0] + direction[0]*steps, self.position[1] + direction[1]*steps)\n",
    "    def rotate(self,rotation):\n",
    "        self.direction = self.direction + rotation"
   ]
  }
 ],
 "metadata": {
  "kernelspec": {
   "display_name": "Python 3",
   "language": "python",
   "name": "python3"
  },
  "language_info": {
   "codemirror_mode": {
    "name": "ipython",
    "version": 3
   },
   "file_extension": ".py",
   "mimetype": "text/x-python",
   "name": "python",
   "nbconvert_exporter": "python",
   "pygments_lexer": "ipython3",
   "version": "3.6.12"
  }
 },
 "nbformat": 4,
 "nbformat_minor": 4
}
