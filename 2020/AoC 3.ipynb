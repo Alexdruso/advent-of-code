{
 "cells": [
  {
   "cell_type": "code",
   "execution_count": 1,
   "metadata": {
    "collapsed": true
   },
   "outputs": [],
   "source": [
    "f = open(\"input3.txt\", \"r\")\n",
    "\n",
    "tabogaMap = f.read()"
   ]
  },
  {
   "cell_type": "code",
   "execution_count": 2,
   "metadata": {
    "collapsed": true
   },
   "outputs": [],
   "source": [
    "tabogaMap = tabogaMap.splitlines()"
   ]
  },
  {
   "cell_type": "code",
   "execution_count": 3,
   "metadata": {},
   "outputs": [],
   "source": [
    "treesCount = 0\n",
    "\n",
    "rowLen = len(tabogaMap[0])\n",
    "\n",
    "for row in range(len(tabogaMap)):\n",
    "    column = (row * 3)%rowLen\n",
    "    \n",
    "    if tabogaMap[row][column] == '#':\n",
    "        treesCount = treesCount + 1"
   ]
  },
  {
   "cell_type": "code",
   "execution_count": 4,
   "metadata": {},
   "outputs": [
    {
     "data": {
      "text/plain": [
       "187"
      ]
     },
     "execution_count": 4,
     "metadata": {},
     "output_type": "execute_result"
    }
   ],
   "source": [
    "treesCount"
   ]
  },
  {
   "cell_type": "code",
   "execution_count": 5,
   "metadata": {},
   "outputs": [],
   "source": [
    "def computeTreeCount(tabogaMap, downStep, rightStep):\n",
    "    treesCount = 0\n",
    "\n",
    "    rowLen = len(tabogaMap[0])\n",
    "\n",
    "    for row in range(0,len(tabogaMap), downStep):\n",
    "        column = (int(row/downStep) * rightStep)%rowLen\n",
    "    \n",
    "        if tabogaMap[row][column] == '#':\n",
    "            treesCount = treesCount + 1\n",
    "        \n",
    "    return treesCount"
   ]
  },
  {
   "cell_type": "code",
   "execution_count": 6,
   "metadata": {},
   "outputs": [],
   "source": [
    "probability = 1\n",
    "\n",
    "for rightStep, downStep in [(1,1),(3,1),(5,1),(7,1),(1,2)]:\n",
    "    probability = probability * computeTreeCount(tabogaMap, downStep, rightStep)"
   ]
  },
  {
   "cell_type": "code",
   "execution_count": 7,
   "metadata": {},
   "outputs": [
    {
     "data": {
      "text/plain": [
       "4723283400"
      ]
     },
     "execution_count": 7,
     "metadata": {},
     "output_type": "execute_result"
    }
   ],
   "source": [
    "probability"
   ]
  },
  {
   "cell_type": "code",
   "execution_count": null,
   "metadata": {
    "collapsed": true
   },
   "outputs": [],
   "source": []
  }
 ],
 "metadata": {
  "kernelspec": {
   "display_name": "Python 3",
   "language": "python",
   "name": "python3"
  },
  "language_info": {
   "codemirror_mode": {
    "name": "ipython",
    "version": 3
   },
   "file_extension": ".py",
   "mimetype": "text/x-python",
   "name": "python",
   "nbconvert_exporter": "python",
   "pygments_lexer": "ipython3",
   "version": "3.6.3"
  }
 },
 "nbformat": 4,
 "nbformat_minor": 2
}
