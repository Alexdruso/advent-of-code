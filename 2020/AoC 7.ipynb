{
 "cells": [
  {
   "cell_type": "code",
   "execution_count": 1,
   "metadata": {},
   "outputs": [],
   "source": [
    "f = open(\"input7.txt\", \"r\")\n",
    "\n",
    "rules = f.read()"
   ]
  },
  {
   "cell_type": "code",
   "execution_count": 2,
   "metadata": {},
   "outputs": [],
   "source": [
    "rules = [rule.split(' contain ') for rule in rules.splitlines()]\n",
    "\n",
    "graph = {}\n",
    "\n",
    "for rule in rules:\n",
    "    contains = [item[2:-4].rstrip() for item in rule[1][:-1].split(', ')]\n",
    "    \n",
    "    for attribute in contains:\n",
    "        graph.setdefault(attribute, []).append(rule[0][:-5])"
   ]
  },
  {
   "cell_type": "code",
   "execution_count": 3,
   "metadata": {},
   "outputs": [],
   "source": [
    "def findContainers(graph, containers, bag):\n",
    "    if bag in graph.keys():\n",
    "        for containerBag in graph[bag]:\n",
    "            if(containerBag not in containers):\n",
    "                containers.add(containerBag)\n",
    "                findContainers(graph, containers, containerBag)\n",
    "    \n",
    "    return containers"
   ]
  },
  {
   "cell_type": "code",
   "execution_count": 4,
   "metadata": {},
   "outputs": [],
   "source": [
    "containers = set()"
   ]
  },
  {
   "cell_type": "code",
   "execution_count": 5,
   "metadata": {},
   "outputs": [],
   "source": [
    "containers = findContainers(graph, containers, 'shiny gold')"
   ]
  },
  {
   "cell_type": "code",
   "execution_count": 6,
   "metadata": {},
   "outputs": [
    {
     "data": {
      "text/plain": [
       "265"
      ]
     },
     "execution_count": 6,
     "metadata": {},
     "output_type": "execute_result"
    }
   ],
   "source": [
    "len(containers)"
   ]
  },
  {
   "cell_type": "code",
   "execution_count": 7,
   "metadata": {},
   "outputs": [],
   "source": [
    "graph = {}\n",
    "\n",
    "for rule in rules:\n",
    "    contains = [item[:-4].rstrip() for item in rule[1][:-1].split(', ')]\n",
    "    graph[rule[0][:-5]] = contains"
   ]
  },
  {
   "cell_type": "code",
   "execution_count": 8,
   "metadata": {},
   "outputs": [
    {
     "data": {
      "text/plain": [
       "['1 dull magenta', '5 dark white', '4 faded turquoise']"
      ]
     },
     "execution_count": 8,
     "metadata": {},
     "output_type": "execute_result"
    }
   ],
   "source": [
    "graph['shiny gold']"
   ]
  },
  {
   "cell_type": "code",
   "execution_count": 9,
   "metadata": {},
   "outputs": [],
   "source": [
    "def howManyIn(graph, bag):\n",
    "    result = 0\n",
    "    \n",
    "    for containedBag in graph[bag]:\n",
    "        if containedBag == 'no other':\n",
    "            return 0\n",
    "        \n",
    "        result = result + int(containedBag[:1]) + int(containedBag[:1])*howManyIn(graph, containedBag[2:])\n",
    "    \n",
    "    return result"
   ]
  },
  {
   "cell_type": "code",
   "execution_count": 10,
   "metadata": {},
   "outputs": [
    {
     "data": {
      "text/plain": [
       "14177"
      ]
     },
     "execution_count": 10,
     "metadata": {},
     "output_type": "execute_result"
    }
   ],
   "source": [
    "howManyIn(graph, 'shiny gold')"
   ]
  },
  {
   "cell_type": "code",
   "execution_count": null,
   "metadata": {},
   "outputs": [],
   "source": []
  }
 ],
 "metadata": {
  "kernelspec": {
   "display_name": "Python 3",
   "language": "python",
   "name": "python3"
  },
  "language_info": {
   "codemirror_mode": {
    "name": "ipython",
    "version": 3
   },
   "file_extension": ".py",
   "mimetype": "text/x-python",
   "name": "python",
   "nbconvert_exporter": "python",
   "pygments_lexer": "ipython3",
   "version": "3.6.12"
  }
 },
 "nbformat": 4,
 "nbformat_minor": 4
}
