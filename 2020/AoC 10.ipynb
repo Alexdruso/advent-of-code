{
 "cells": [
  {
   "cell_type": "code",
   "execution_count": 24,
   "metadata": {},
   "outputs": [],
   "source": [
    "f = open(\"input10.txt\", \"r\")\n",
    "\n",
    "adapters =sorted([int(line) for line in f.read().splitlines()])"
   ]
  },
  {
   "cell_type": "code",
   "execution_count": 25,
   "metadata": {},
   "outputs": [],
   "source": [
    "joltDiff = {}\n",
    "\n",
    "for index in range(len(adapters)-1):\n",
    "    joltDiff[adapters[index+1] - adapters[index]] =  joltDiff.setdefault(adapters[index+1] - adapters[index], 0) +1"
   ]
  },
  {
   "cell_type": "code",
   "execution_count": 26,
   "metadata": {},
   "outputs": [
    {
     "data": {
      "text/plain": [
       "2046"
      ]
     },
     "execution_count": 26,
     "metadata": {},
     "output_type": "execute_result"
    }
   ],
   "source": [
    "joltDiff[adapters[0] - 0] =  joltDiff.setdefault(adapters[0] - 0, 0) +1\n",
    "joltDiff[3] =  joltDiff.setdefault(3, 0) +1\n",
    "\n",
    "joltDiff[1]*joltDiff[3]"
   ]
  },
  {
   "cell_type": "code",
   "execution_count": 27,
   "metadata": {},
   "outputs": [],
   "source": [
    "def numBranches(adapters, currentAdapter, cache):\n",
    "    if currentAdapter in cache:\n",
    "        return cache[currentAdapter]\n",
    "    cache[currentAdapter] = sum([numBranches(adapters,adapter, cache) for adapter in range(currentAdapter + 1, currentAdapter + 4) if adapter in adapters])\n",
    "    return cache[currentAdapter]"
   ]
  },
  {
   "cell_type": "code",
   "execution_count": 28,
   "metadata": {},
   "outputs": [
    {
     "data": {
      "text/plain": [
       "1157018619904"
      ]
     },
     "execution_count": 28,
     "metadata": {},
     "output_type": "execute_result"
    }
   ],
   "source": [
    "cache = {adapters[-1]: 1}\n",
    "numBranches(adapters, 0, cache)\n",
    "cache[0]"
   ]
  },
  {
   "cell_type": "code",
   "execution_count": null,
   "metadata": {},
   "outputs": [],
   "source": []
  }
 ],
 "metadata": {
  "kernelspec": {
   "display_name": "Python 3",
   "language": "python",
   "name": "python3"
  },
  "language_info": {
   "codemirror_mode": {
    "name": "ipython",
    "version": 3
   },
   "file_extension": ".py",
   "mimetype": "text/x-python",
   "name": "python",
   "nbconvert_exporter": "python",
   "pygments_lexer": "ipython3",
   "version": "3.6.12"
  }
 },
 "nbformat": 4,
 "nbformat_minor": 4
}
